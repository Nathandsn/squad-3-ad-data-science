{
 "cells": [
  {
   "cell_type": "code",
   "execution_count": 2,
   "metadata": {},
   "outputs": [],
   "source": [
    "# Importing libs\n",
    "import pandas as pd\n",
    "import seaborn as sns\n",
    "import numpy as np"
   ]
  },
  {
   "cell_type": "code",
   "execution_count": 10,
   "metadata": {},
   "outputs": [],
   "source": [
    "# Open dataset\n",
    "\n",
    "data = pd.read_csv('../estaticos_market.csv', index_col=0)"
   ]
  },
  {
   "cell_type": "code",
   "execution_count": 33,
   "metadata": {},
   "outputs": [
    {
     "data": {
      "text/plain": [
       "Index(['fl_matriz', 'de_natureza_juridica', 'sg_uf', 'natureza_juridica_macro',\n",
       "       'de_ramo', 'setor', 'idade_empresa_anos', 'idade_emp_cat', 'fl_me',\n",
       "       'fl_sa',\n",
       "       ...\n",
       "       'media_meses_servicos', 'max_meses_servicos', 'min_meses_servicos',\n",
       "       'qt_funcionarios', 'qt_funcionarios_12meses', 'qt_funcionarios_24meses',\n",
       "       'tx_crescimento_12meses', 'tx_crescimento_24meses', 'tx_rotatividade',\n",
       "       'qt_filiais'],\n",
       "      dtype='object', length=180)"
      ]
     },
     "execution_count": 33,
     "metadata": {},
     "output_type": "execute_result"
    }
   ],
   "source": [
    "data.iloc[:,1:].columns"
   ]
  },
  {
   "cell_type": "code",
   "execution_count": 32,
   "metadata": {},
   "outputs": [],
   "source": [
    "# Take correlations, without id column\n",
    "correlations = data.iloc[:,1:].corr()"
   ]
  },
  {
   "cell_type": "code",
   "execution_count": 50,
   "metadata": {},
   "outputs": [
    {
     "data": {
      "text/plain": [
       "(462298, 181)"
      ]
     },
     "execution_count": 50,
     "metadata": {},
     "output_type": "execute_result"
    }
   ],
   "source": [
    "data.shape"
   ]
  },
  {
   "cell_type": "code",
   "execution_count": 75,
   "metadata": {},
   "outputs": [
    {
     "name": "stdout",
     "output_type": "stream",
     "text": [
      "Num. of kept columns: 134\n",
      "Num. of removed columns: 46\n"
     ]
    }
   ],
   "source": [
    "# Take pairs of columns that have correlation > thresh, without mirror pairs and assimetric\n",
    "thresh = 0.95\n",
    "high_correlations = np.array([p for p in zip(*np.where(correlations >= thresh)) if p[0] > p[1]])\n",
    "\n",
    "# Check the columns that are on\n",
    "corr_serie = pd.Series(high_correlations.reshape(-1))\n",
    "corr_serie_counts = corr_serie.value_counts()\n",
    "\n",
    "# For each high correlation found, remove one of the columns. The one that repeatless,\n",
    "# trying to keep the most representative ones\n",
    "columns = np.full((data.iloc[:,1:].shape[1],), True, dtype=bool)\n",
    "for p in high_correlations:\n",
    "    if corr_serie_counts[p[0]] > corr_serie_counts[p[1]]:\n",
    "        columns[p[1]] = False\n",
    "    else:\n",
    "        columns[p[0]] = False\n",
    "        \n",
    "\n",
    "kept_columns = data.iloc[:,1:].columns[columns]\n",
    "removed_columns = data.iloc[:,1:].columns[columns == False]\n",
    "\n",
    "print(f'Num. of kept columns: {len(kept_columns)}')\n",
    "print(f'Num. of removed columns: {len(removed_columns)}')"
   ]
  },
  {
   "cell_type": "code",
   "execution_count": 81,
   "metadata": {},
   "outputs": [
    {
     "data": {
      "text/plain": [
       "(462298, 135)"
      ]
     },
     "execution_count": 81,
     "metadata": {},
     "output_type": "execute_result"
    }
   ],
   "source": [
    "# Put id back on df\n",
    "df = data.iloc[:, [True, *columns]]\n",
    "\n",
    "df.shape"
   ]
  }
 ],
 "metadata": {
  "kernelspec": {
   "display_name": "Python 3",
   "language": "python",
   "name": "python3"
  },
  "language_info": {
   "codemirror_mode": {
    "name": "ipython",
    "version": 3
   },
   "file_extension": ".py",
   "mimetype": "text/x-python",
   "name": "python",
   "nbconvert_exporter": "python",
   "pygments_lexer": "ipython3",
   "version": "3.7.3"
  }
 },
 "nbformat": 4,
 "nbformat_minor": 2
}
