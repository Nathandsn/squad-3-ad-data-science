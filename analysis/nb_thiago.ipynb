{
 "cells": [
  {
   "cell_type": "markdown",
   "metadata": {},
   "source": [
    "# Tarefa 1: determinar significado de colunas no dataset do projeto final"
   ]
  },
  {
   "cell_type": "code",
   "execution_count": 33,
   "metadata": {},
   "outputs": [
    {
     "data": {
      "application/javascript": [
       "IPython.OutputArea.prototype._should_scroll = function(lines) {\n",
       "    return false;\n",
       "}\n"
      ],
      "text/plain": [
       "<IPython.core.display.Javascript object>"
      ]
     },
     "metadata": {},
     "output_type": "display_data"
    }
   ],
   "source": [
    "%%javascript\n",
    "IPython.OutputArea.prototype._should_scroll = function(lines) {\n",
    "    return false;\n",
    "}"
   ]
  },
  {
   "cell_type": "code",
   "execution_count": 34,
   "metadata": {},
   "outputs": [],
   "source": [
    "my_range = [91, 181]"
   ]
  },
  {
   "cell_type": "code",
   "execution_count": 35,
   "metadata": {},
   "outputs": [],
   "source": [
    "# Importing libs\n",
    "import pandas as pd\n",
    "import seaborn as sns\n",
    "import numpy as np\n",
    "import json\n",
    "from jinja2 import Template\n",
    "\n",
    "from IPython.display import display, Markdown"
   ]
  },
  {
   "cell_type": "markdown",
   "metadata": {},
   "source": [
    "## GAMEPLAN\n",
    "\n",
    "- Automatizar a criação de um documentinho com as informações que eu julgar necessário com minha análise, contando com as informações do dict\n",
    "- Ler os documentinhos e escrever o relatório\n",
    "- Talvez automatizar isso ai também."
   ]
  },
  {
   "cell_type": "code",
   "execution_count": 36,
   "metadata": {},
   "outputs": [],
   "source": [
    "with open('dict.json') as f:\n",
    "    vars_dict = json.load(f)"
   ]
  },
  {
   "cell_type": "code",
   "execution_count": 37,
   "metadata": {},
   "outputs": [],
   "source": [
    "# Loading data frame\n",
    "entire_df = pd.read_csv('../estaticos_market.csv', index_col=0)\n",
    "\n",
    "# Slicing my part\n",
    "my_df = entire_df.iloc[:, my_range[0]:my_range[1]]"
   ]
  },
  {
   "cell_type": "code",
   "execution_count": 38,
   "metadata": {},
   "outputs": [
    {
     "data": {
      "text/plain": [
       "(462298, 90)"
      ]
     },
     "execution_count": 38,
     "metadata": {},
     "output_type": "execute_result"
    }
   ],
   "source": [
    "my_df.shape"
   ]
  },
  {
   "cell_type": "code",
   "execution_count": 39,
   "metadata": {},
   "outputs": [],
   "source": [
    "string_template = '''\n",
    "-----\n",
    "# Analysis of {{ COL_NAME }}\n",
    "\n",
    "### Type of column: {{ COL_TYPE }}\n",
    "\n",
    "Description: {{ COL_DESCRIPTION }}\n",
    "\n",
    "{% if FLOAT_TYPE %}\n",
    "\n",
    "* Average value: {{ AVG }}\n",
    "* Mode value: {{ MODE }}\n",
    "* Q2: {{ Q2 }}\n",
    "* Variance: {{ VAR }}\n",
    "\n",
    "{% else %}\n",
    "\n",
    "* Value counts\n",
    "\n",
    "{% for key in VALUE_COUNTS %}\n",
    "    * {{key }} : {{ VALUE_COUNTS[key] }}\n",
    "{% endfor %}\n",
    "{% endif %}\n",
    "\n",
    "### NaN %: {{ NAN_PCTG }}%\n",
    "#### NaN count: {{ NAN_COUNT }}\n",
    "'''"
   ]
  },
  {
   "cell_type": "code",
   "execution_count": null,
   "metadata": {},
   "outputs": [
    {
     "data": {
      "text/markdown": [
       "\n",
       "-----\n",
       "# Analysis of qt_coligados_ltda\n",
       "\n",
       "### Type of column: float64\n",
       "\n",
       "Description: integer value, quantity of connected companies that has the term  LTDA in the end of the business name\n",
       "\n",
       "\n",
       "\n",
       "* Average value: 0.08022510743068618\n",
       "* Mode value: 0    0.0\n",
       "dtype: float64\n",
       "* Q2: 0.0\n",
       "* Variance: 0.46626608176202194\n",
       "\n",
       "\n",
       "\n",
       "### NaN %: 85.86%\n",
       "#### NaN count: 396907"
      ],
      "text/plain": [
       "<IPython.core.display.Markdown object>"
      ]
     },
     "metadata": {},
     "output_type": "display_data"
    },
    {
     "data": {
      "text/markdown": [
       "\n",
       "-----\n",
       "# Analysis of qt_coligados_epp\n",
       "\n",
       "### Type of column: float64\n",
       "\n",
       "Description: integer value, quantity of connected companies that has the term EPP in the end of the business name\n",
       "\n",
       "\n",
       "\n",
       "* Average value: 0.001789237050970317\n",
       "* Mode value: 0    0.0\n",
       "dtype: float64\n",
       "* Q2: 0.0\n",
       "* Variance: 0.0026424630565076673\n",
       "\n",
       "\n",
       "\n",
       "### NaN %: 85.86%\n",
       "#### NaN count: 396907"
      ],
      "text/plain": [
       "<IPython.core.display.Markdown object>"
      ]
     },
     "metadata": {},
     "output_type": "display_data"
    },
    {
     "data": {
      "text/markdown": [
       "\n",
       "-----\n",
       "# Analysis of qt_coligados_norte\n",
       "\n",
       "### Type of column: float64\n",
       "\n",
       "Description: integer value, quantity of connected companies that are located in the north region of the country\n",
       "\n",
       "\n",
       "\n",
       "* Average value: 0.9122509213806181\n",
       "* Mode value: 0    0.0\n",
       "dtype: float64\n",
       "* Q2: 0.0\n",
       "* Variance: 10.486289888161524\n",
       "\n",
       "\n",
       "\n",
       "### NaN %: 85.86%\n",
       "#### NaN count: 396907"
      ],
      "text/plain": [
       "<IPython.core.display.Markdown object>"
      ]
     },
     "metadata": {},
     "output_type": "display_data"
    },
    {
     "data": {
      "text/markdown": [
       "\n",
       "-----\n",
       "# Analysis of qt_coligados_sul\n",
       "\n",
       "### Type of column: float64\n",
       "\n",
       "Description: integer value, quantity of connected companies that are located in the south region of the country\n",
       "\n",
       "\n",
       "\n",
       "* Average value: 0.1361196494930495\n",
       "* Mode value: 0    0.0\n",
       "dtype: float64\n",
       "* Q2: 0.0\n",
       "* Variance: 1.673916485699073\n",
       "\n",
       "\n",
       "\n",
       "### NaN %: 85.86%\n",
       "#### NaN count: 396907"
      ],
      "text/plain": [
       "<IPython.core.display.Markdown object>"
      ]
     },
     "metadata": {},
     "output_type": "display_data"
    },
    {
     "data": {
      "text/markdown": [
       "\n",
       "-----\n",
       "# Analysis of qt_coligados_nordeste\n",
       "\n",
       "### Type of column: float64\n",
       "\n",
       "Description: integer value, quantity of connected companies that are located in the northeast region of the country\n",
       "\n",
       "\n",
       "\n",
       "* Average value: 2.2443761373889375\n",
       "* Mode value: 0    0.0\n",
       "dtype: float64\n",
       "* Q2: 1.0\n",
       "* Variance: 51.789063607960315\n",
       "\n",
       "\n",
       "\n",
       "### NaN %: 85.86%\n",
       "#### NaN count: 396907"
      ],
      "text/plain": [
       "<IPython.core.display.Markdown object>"
      ]
     },
     "metadata": {},
     "output_type": "display_data"
    },
    {
     "data": {
      "text/markdown": [
       "\n",
       "-----\n",
       "# Analysis of qt_coligados_centro\n",
       "\n",
       "### Type of column: float64\n",
       "\n",
       "Description: integer value, quantity of connected companies that are located in the center-west (centro-oeste) region of the country\n",
       "\n",
       "\n",
       "\n",
       "* Average value: 0.23923781560153537\n",
       "* Mode value: 0    0.0\n",
       "dtype: float64\n",
       "* Q2: 0.0\n",
       "* Variance: 4.378916709171579\n",
       "\n",
       "\n",
       "\n",
       "### NaN %: 85.86%\n",
       "#### NaN count: 396907"
      ],
      "text/plain": [
       "<IPython.core.display.Markdown object>"
      ]
     },
     "metadata": {},
     "output_type": "display_data"
    },
    {
     "data": {
      "text/markdown": [
       "\n",
       "-----\n",
       "# Analysis of qt_coligados_sudeste\n",
       "\n",
       "### Type of column: float64\n",
       "\n",
       "Description: integer value, quantity of connected companies that are located in the southeast of the country\n",
       "\n",
       "\n",
       "\n",
       "* Average value: 2.3684299062562126\n",
       "* Mode value: 0    0.0\n",
       "dtype: float64\n",
       "* Q2: 0.0\n",
       "* Variance: 448.2838016011388\n",
       "\n",
       "\n",
       "\n",
       "### NaN %: 85.86%\n",
       "#### NaN count: 396907"
      ],
      "text/plain": [
       "<IPython.core.display.Markdown object>"
      ]
     },
     "metadata": {},
     "output_type": "display_data"
    },
    {
     "data": {
      "text/markdown": [
       "\n",
       "-----\n",
       "# Analysis of qt_coligados_exterior\n",
       "\n",
       "### Type of column: float64\n",
       "\n",
       "Description: integer value, quantity of connected companies that are located abroad the country\n",
       "\n",
       "\n",
       "\n",
       "* Average value: 0.015843158844489304\n",
       "* Mode value: 0    0.0\n",
       "dtype: float64\n",
       "* Q2: 0.0\n",
       "* Variance: 0.027459649601423903\n",
       "\n",
       "\n",
       "\n",
       "### NaN %: 85.86%\n",
       "#### NaN count: 396907"
      ],
      "text/plain": [
       "<IPython.core.display.Markdown object>"
      ]
     },
     "metadata": {},
     "output_type": "display_data"
    },
    {
     "data": {
      "text/markdown": [
       "\n",
       "-----\n",
       "# Analysis of qt_ufs_coligados\n",
       "\n",
       "### Type of column: float64\n",
       "\n",
       "Description: integer value, quantity of distinct states where the connected companies are located\n",
       "\n",
       "\n",
       "\n",
       "* Average value: 1.4561789848755946\n",
       "* Mode value: 0    1.0\n",
       "dtype: float64\n",
       "* Q2: 1.0\n",
       "* Variance: 1.9556840630243308\n",
       "\n",
       "\n",
       "\n",
       "### NaN %: 85.86%\n",
       "#### NaN count: 396907"
      ],
      "text/plain": [
       "<IPython.core.display.Markdown object>"
      ]
     },
     "metadata": {},
     "output_type": "display_data"
    },
    {
     "data": {
      "text/markdown": [
       "\n",
       "-----\n",
       "# Analysis of qt_regioes_coligados\n",
       "\n",
       "### Type of column: float64\n",
       "\n",
       "Description: integer value, quantity of distinct ufs where the connected companies are located\n",
       "\n",
       "\n",
       "\n",
       "* Average value: 1.2250003823156093\n",
       "* Mode value: 0    1.0\n",
       "dtype: float64\n",
       "* Q2: 1.0\n",
       "* Variance: 0.4109278081509472\n",
       "\n",
       "\n",
       "\n",
       "### NaN %: 85.86%\n",
       "#### NaN count: 396907"
      ],
      "text/plain": [
       "<IPython.core.display.Markdown object>"
      ]
     },
     "metadata": {},
     "output_type": "display_data"
    },
    {
     "data": {
      "text/markdown": [
       "\n",
       "-----\n",
       "# Analysis of qt_ramos_coligados\n",
       "\n",
       "### Type of column: float64\n",
       "\n",
       "Description: integer value, quantity of distinct economic branches from connected companies\n",
       "\n",
       "\n",
       "\n",
       "* Average value: 2.8773225673257787\n",
       "* Mode value: 0    1.0\n",
       "dtype: float64\n",
       "* Q2: 1.0\n",
       "* Variance: 20.020796477062053\n",
       "\n",
       "\n",
       "\n",
       "### NaN %: 85.86%\n",
       "#### NaN count: 396907"
      ],
      "text/plain": [
       "<IPython.core.display.Markdown object>"
      ]
     },
     "metadata": {},
     "output_type": "display_data"
    },
    {
     "data": {
      "text/markdown": [
       "\n",
       "-----\n",
       "# Analysis of qt_coligados_industria\n",
       "\n",
       "### Type of column: float64\n",
       "\n",
       "Description: integer value, quantity of connected companies from the industry sector\n",
       "\n",
       "\n",
       "\n",
       "* Average value: 0.5298435564527229\n",
       "* Mode value: 0    0.0\n",
       "dtype: float64\n",
       "* Q2: 0.0\n",
       "* Variance: 24.044464142828915\n",
       "\n",
       "\n",
       "\n",
       "### NaN %: 85.86%\n",
       "#### NaN count: 396907"
      ],
      "text/plain": [
       "<IPython.core.display.Markdown object>"
      ]
     },
     "metadata": {},
     "output_type": "display_data"
    },
    {
     "data": {
      "text/markdown": [
       "\n",
       "-----\n",
       "# Analysis of qt_coligados_agropecuaria\n",
       "\n",
       "### Type of column: float64\n",
       "\n",
       "Description: integer value, quantity of connected companies from the agrobusiness sector\n",
       "\n",
       "\n",
       "\n",
       "* Average value: 0.12974262513189888\n",
       "* Mode value: 0    0.0\n",
       "dtype: float64\n",
       "* Q2: 0.0\n",
       "* Variance: 0.648803541342422\n",
       "\n",
       "\n",
       "\n",
       "### NaN %: 85.86%\n",
       "#### NaN count: 396907"
      ],
      "text/plain": [
       "<IPython.core.display.Markdown object>"
      ]
     },
     "metadata": {},
     "output_type": "display_data"
    },
    {
     "data": {
      "text/markdown": [
       "\n",
       "-----\n",
       "# Analysis of qt_coligados_comercio\n",
       "\n",
       "### Type of column: float64\n",
       "\n",
       "Description: integer value, quantity of connected companies\n",
       "\n",
       "\n",
       "\n",
       "* Average value: 1.1698398862228747\n",
       "* Mode value: 0    0.0\n",
       "dtype: float64\n",
       "* Q2: 0.0\n",
       "* Variance: 30.181461358366857\n",
       "\n",
       "\n",
       "\n",
       "### NaN %: 85.86%\n",
       "#### NaN count: 396907"
      ],
      "text/plain": [
       "<IPython.core.display.Markdown object>"
      ]
     },
     "metadata": {},
     "output_type": "display_data"
    },
    {
     "data": {
      "text/markdown": [
       "\n",
       "-----\n",
       "# Analysis of qt_coligados_serviço\n",
       "\n",
       "### Type of column: float64\n",
       "\n",
       "Description: integer value, quantity of connected companies from the service sector\n",
       "\n",
       "\n",
       "\n",
       "* Average value: 2.91823033750822\n",
       "* Mode value: 0    0.0\n",
       "dtype: float64\n",
       "* Q2: 1.0\n",
       "* Variance: 124.46924266118147\n",
       "\n",
       "\n",
       "\n",
       "### NaN %: 85.86%\n",
       "#### NaN count: 396907"
      ],
      "text/plain": [
       "<IPython.core.display.Markdown object>"
      ]
     },
     "metadata": {},
     "output_type": "display_data"
    },
    {
     "data": {
      "text/markdown": [
       "\n",
       "-----\n",
       "# Analysis of qt_coligados_ccivil\n",
       "\n",
       "### Type of column: float64\n",
       "\n",
       "Description: integer value, quantity of connected companies from the construction sector\n",
       "\n",
       "\n",
       "\n",
       "* Average value: 1.205731675612852\n",
       "* Mode value: 0    0.0\n",
       "dtype: float64\n",
       "* Q2: 0.0\n",
       "* Variance: 317.4936732186571\n",
       "\n",
       "\n",
       "\n",
       "### NaN %: 85.86%\n",
       "#### NaN count: 396907"
      ],
      "text/plain": [
       "<IPython.core.display.Markdown object>"
      ]
     },
     "metadata": {},
     "output_type": "display_data"
    },
    {
     "data": {
      "text/markdown": [
       "\n",
       "-----\n",
       "# Analysis of qt_funcionarios_coligados\n",
       "\n",
       "### Type of column: float64\n",
       "\n",
       "Description: integer value, quantity of employees from the connected companies\n",
       "\n",
       "\n",
       "\n",
       "* Average value: 309.21634399451574\n",
       "* Mode value: 0    0.0\n",
       "dtype: float64\n",
       "* Q2: 9.0\n",
       "* Variance: 2231770.0208032657\n",
       "\n",
       "\n",
       "\n",
       "### NaN %: 90.85%\n",
       "#### NaN count: 419995"
      ],
      "text/plain": [
       "<IPython.core.display.Markdown object>"
      ]
     },
     "metadata": {},
     "output_type": "display_data"
    },
    {
     "data": {
      "text/markdown": [
       "\n",
       "-----\n",
       "# Analysis of qt_funcionarios_coligados_gp\n",
       "\n",
       "### Type of column: float64\n",
       "\n",
       "Description: integer value, quantity of employees from conected companies and their subsidiaries\n",
       "\n",
       "\n",
       "\n",
       "* Average value: 1940.2744486206652\n",
       "* Mode value: 0    0.0\n",
       "dtype: float64\n",
       "* Q2: 10.0\n",
       "* Variance: 771962791.9888339\n",
       "\n",
       "\n",
       "\n",
       "### NaN %: 90.85%\n",
       "#### NaN count: 419995"
      ],
      "text/plain": [
       "<IPython.core.display.Markdown object>"
      ]
     },
     "metadata": {},
     "output_type": "display_data"
    },
    {
     "data": {
      "text/markdown": [
       "\n",
       "-----\n",
       "# Analysis of media_funcionarios_coligados_gp\n",
       "\n",
       "### Type of column: float64\n",
       "\n",
       "Description: numeric value, average of employees from the connected companies and their subsidiaries\n",
       "\n",
       "\n",
       "\n",
       "* Average value: 364.9553036311657\n",
       "* Mode value: 0    0.0\n",
       "dtype: float64\n",
       "* Q2: 6.0\n",
       "* Variance: 346913210.505765\n",
       "\n",
       "\n",
       "\n",
       "### NaN %: 90.85%\n",
       "#### NaN count: 419995"
      ],
      "text/plain": [
       "<IPython.core.display.Markdown object>"
      ]
     },
     "metadata": {},
     "output_type": "display_data"
    },
    {
     "data": {
      "text/markdown": [
       "\n",
       "-----\n",
       "# Analysis of max_funcionarios_coligados_gp\n",
       "\n",
       "### Type of column: float64\n",
       "\n",
       "Description: numeric value, maximum number of employees from connected companies and their subsidiaries\n",
       "\n",
       "\n",
       "\n",
       "* Average value: 1538.0433538992506\n",
       "* Mode value: 0    0.0\n",
       "dtype: float64\n",
       "* Q2: 8.0\n",
       "* Variance: 711889805.4665616\n",
       "\n",
       "\n",
       "\n",
       "### NaN %: 90.85%\n",
       "#### NaN count: 419995"
      ],
      "text/plain": [
       "<IPython.core.display.Markdown object>"
      ]
     },
     "metadata": {},
     "output_type": "display_data"
    },
    {
     "data": {
      "text/markdown": [
       "\n",
       "-----\n",
       "# Analysis of min_funcionarios_coligados_gp\n",
       "\n",
       "### Type of column: float64\n",
       "\n",
       "Description: numeric value, minimum number of employees from connected companies and their subsidiaries\n",
       "\n",
       "\n",
       "\n",
       "* Average value: 155.2228447155048\n",
       "* Mode value: 0    0.0\n",
       "dtype: float64\n",
       "* Q2: 1.0\n",
       "* Variance: 336854839.2888809\n",
       "\n",
       "\n",
       "\n",
       "### NaN %: 90.85%\n",
       "#### NaN count: 419995"
      ],
      "text/plain": [
       "<IPython.core.display.Markdown object>"
      ]
     },
     "metadata": {},
     "output_type": "display_data"
    },
    {
     "data": {
      "text/markdown": [
       "\n",
       "-----\n",
       "# Analysis of vl_folha_coligados\n",
       "\n",
       "### Type of column: float64\n",
       "\n",
       "Description: numeric value, sum of payroll value from connected companies\n",
       "\n",
       "\n",
       "\n",
       "* Average value: 45284172.192583695\n",
       "* Mode value: 0    61819.199219\n",
       "dtype: float64\n",
       "* Q2: 803649.62\n",
       "* Variance: 5.996166175199219e+16\n",
       "\n",
       "\n",
       "\n",
       "### NaN %: 92.14%\n",
       "#### NaN count: 425984"
      ],
      "text/plain": [
       "<IPython.core.display.Markdown object>"
      ]
     },
     "metadata": {},
     "output_type": "display_data"
    },
    {
     "data": {
      "text/markdown": [
       "\n",
       "-----\n",
       "# Analysis of media_vl_folha_coligados\n",
       "\n",
       "### Type of column: float64\n",
       "\n",
       "Description: numeric value, average of payroll value from connected companies\n",
       "\n",
       "\n",
       "\n",
       "* Average value: 5863274.672376876\n",
       "* Mode value: 0    61819.199219\n",
       "dtype: float64\n",
       "* Q2: 484250.391\n",
       "* Variance: 1116219208232212.5\n",
       "\n",
       "\n",
       "\n",
       "### NaN %: 92.14%\n",
       "#### NaN count: 425984"
      ],
      "text/plain": [
       "<IPython.core.display.Markdown object>"
      ]
     },
     "metadata": {},
     "output_type": "display_data"
    },
    {
     "data": {
      "text/markdown": [
       "\n",
       "-----\n",
       "# Analysis of max_vl_folha_coligados\n",
       "\n",
       "### Type of column: float64\n",
       "\n",
       "Description: numeric value, maximum of payroll value from connected companies\n",
       "\n",
       "\n",
       "\n",
       "* Average value: 22582083.573048964\n",
       "* Mode value: 0    61819.2\n",
       "dtype: float64\n",
       "* Q2: 618192.0\n",
       "* Variance: 1.6892688186938332e+16\n",
       "\n",
       "\n",
       "\n",
       "### NaN %: 92.14%\n",
       "#### NaN count: 425984"
      ],
      "text/plain": [
       "<IPython.core.display.Markdown object>"
      ]
     },
     "metadata": {},
     "output_type": "display_data"
    },
    {
     "data": {
      "text/markdown": [
       "\n",
       "-----\n",
       "# Analysis of min_vl_folha_coligados\n",
       "\n",
       "### Type of column: float64\n",
       "\n",
       "Description: numeric value, minimum of payroll value from connected companies\n",
       "\n",
       "\n",
       "\n",
       "* Average value: 2261567.42508399\n",
       "* Mode value: 0    61819.2\n",
       "dtype: float64\n",
       "* Q2: 185457.6\n",
       "* Variance: 799963743786589.8\n",
       "\n",
       "\n",
       "\n",
       "### NaN %: 92.14%\n",
       "#### NaN count: 425984"
      ],
      "text/plain": [
       "<IPython.core.display.Markdown object>"
      ]
     },
     "metadata": {},
     "output_type": "display_data"
    },
    {
     "data": {
      "text/markdown": [
       "\n",
       "-----\n",
       "# Analysis of vl_folha_coligados_gp\n",
       "\n",
       "### Type of column: float64\n",
       "\n",
       "Description: numeric value, sum of payroll value from connected companies and their subsidiaries\n",
       "\n",
       "\n",
       "\n",
       "* Average value: 114484765.34699419\n",
       "* Mode value: 0    61819.199219\n",
       "dtype: float64\n",
       "* Q2: 927288.012\n",
       "* Variance: 6.817616639926707e+17\n",
       "\n",
       "\n",
       "\n",
       "### NaN %: 92.1%\n",
       "#### NaN count: 425761"
      ],
      "text/plain": [
       "<IPython.core.display.Markdown object>"
      ]
     },
     "metadata": {},
     "output_type": "display_data"
    },
    {
     "data": {
      "text/markdown": [
       "\n",
       "-----\n",
       "# Analysis of media_vl_folha_coligados_gp\n",
       "\n",
       "### Type of column: float64\n",
       "\n",
       "Description: numeric value, average of payroll value from connected companies and their subsidiaries\n",
       "\n",
       "\n",
       "\n",
       "* Average value: 15804829.971929519\n",
       "* Mode value: 0    61819.199219\n",
       "dtype: float64\n",
       "* Q2: 539200.806\n",
       "* Variance: 4.647617843886288e+16\n",
       "\n",
       "\n",
       "\n",
       "### NaN %: 92.1%\n",
       "#### NaN count: 425761"
      ],
      "text/plain": [
       "<IPython.core.display.Markdown object>"
      ]
     },
     "metadata": {},
     "output_type": "display_data"
    },
    {
     "data": {
      "text/markdown": [
       "\n",
       "-----\n",
       "# Analysis of max_vl_folha_coligados_gp\n",
       "\n",
       "### Type of column: float64\n",
       "\n",
       "Description: numeric value, maximum of payroll value from connected companies and their subsidiaries\n",
       "\n",
       "\n",
       "\n",
       "* Average value: 67084852.15787285\n",
       "* Mode value: 0    61819.2\n",
       "dtype: float64\n",
       "* Q2: 700617.6\n",
       "* Variance: 4.688306784518568e+17\n",
       "\n",
       "\n",
       "\n",
       "### NaN %: 92.1%\n",
       "#### NaN count: 425761"
      ],
      "text/plain": [
       "<IPython.core.display.Markdown object>"
      ]
     },
     "metadata": {},
     "output_type": "display_data"
    },
    {
     "data": {
      "text/markdown": [
       "\n",
       "-----\n",
       "# Analysis of min_vl_folha_coligados_gp\n",
       "\n",
       "### Type of column: float64\n",
       "\n",
       "Description: numeric value, minimum of payroll value from connected companies and their subsidiaries\n",
       "\n",
       "\n",
       "\n",
       "* Average value: 5446710.276270632\n",
       "* Mode value: 0    61819.2\n",
       "dtype: float64\n",
       "* Q2: 185457.6\n",
       "* Variance: 3.6151047676737384e+16\n",
       "\n",
       "\n",
       "\n",
       "### NaN %: 92.1%\n",
       "#### NaN count: 425761"
      ],
      "text/plain": [
       "<IPython.core.display.Markdown object>"
      ]
     },
     "metadata": {},
     "output_type": "display_data"
    },
    {
     "data": {
      "text/markdown": [
       "\n",
       "-----\n",
       "# Analysis of faturamento_est_coligados\n",
       "\n",
       "### Type of column: float64\n",
       "\n",
       "Description: numeric value, sum of estimated revenue from connected companies\n",
       "\n",
       "\n",
       "\n",
       "* Average value: 884375198.6200156\n",
       "* Mode value: 0    210000.0\n",
       "dtype: float64\n",
       "* Q2: 741830.375\n",
       "* Variance: 1.0813427909797949e+20\n",
       "\n",
       "\n",
       "\n",
       "### NaN %: 86.04%\n",
       "#### NaN count: 397775"
      ],
      "text/plain": [
       "<IPython.core.display.Markdown object>"
      ]
     },
     "metadata": {},
     "output_type": "display_data"
    },
    {
     "data": {
      "text/markdown": [
       "\n",
       "-----\n",
       "# Analysis of media_faturamento_est_coligados\n",
       "\n",
       "### Type of column: float64\n",
       "\n",
       "Description: numeric value, average of estimated revenue from connected companies\n",
       "\n",
       "\n",
       "\n",
       "* Average value: 23142644.750762366\n",
       "* Mode value: 0    210000.0\n",
       "dtype: float64\n",
       "* Q2: 315800.348\n",
       "* Variance: 1.3529368555708589e+17\n",
       "\n",
       "\n",
       "\n",
       "### NaN %: 86.04%\n",
       "#### NaN count: 397775"
      ],
      "text/plain": [
       "<IPython.core.display.Markdown object>"
      ]
     },
     "metadata": {},
     "output_type": "display_data"
    }
   ],
   "source": [
    "tm = Template(string_template)\n",
    "\n",
    "to_display = []\n",
    "for name in my_df:\n",
    "    tm = Template(string_template)\n",
    "    info = dict()\n",
    "    info['COL_NAME'] = name\n",
    "    info['COL_TYPE'] = my_df[name].dtype\n",
    "    info['COL_DESCRIPTION'] = vars_dict[name]\n",
    "        \n",
    "        \n",
    "    info['NAN_PCTG'] = round(100*my_df[name].isna().sum()/my_df[name].size, 2)\n",
    "    info['NAN_COUNT'] = my_df[name].isna().sum()\n",
    "    \n",
    "    if np.issubsctype(my_df[name].dtype, float) or np.issubsctype(my_df[name].dtype, int):\n",
    "        info['FLOAT_TYPE'] = True\n",
    "        info['AVG'] = my_df[name].mean()\n",
    "        info['VAR'] = my_df[name].var()\n",
    "        info['MODE'] = my_df[name].mode()\n",
    "        info['Q2'] = round(my_df[name].median(), 3)\n",
    "    \n",
    "    else:\n",
    "        info['FLOAT_TYPE'] = False\n",
    "        info['VALUE_COUNTS'] = dict()\n",
    "        counts = my_df[name].value_counts()\n",
    "        for key in counts.index:\n",
    "            info['VALUE_COUNTS'][key] = counts.loc[key]\n",
    "\n",
    "    display(Markdown(tm.render(info)))"
   ]
  }
 ],
 "metadata": {
  "kernelspec": {
   "display_name": "Python 3",
   "language": "python",
   "name": "python3"
  },
  "language_info": {
   "codemirror_mode": {
    "name": "ipython",
    "version": 3
   },
   "file_extension": ".py",
   "mimetype": "text/x-python",
   "name": "python",
   "nbconvert_exporter": "python",
   "pygments_lexer": "ipython3",
   "version": "3.7.3"
  }
 },
 "nbformat": 4,
 "nbformat_minor": 2
}
