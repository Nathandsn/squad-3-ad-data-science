{
 "cells": [
  {
   "cell_type": "code",
   "execution_count": 16,
   "metadata": {},
   "outputs": [],
   "source": [
    "# Importing libs\n",
    "import pandas as pd\n",
    "import seaborn as sns\n",
    "import numpy as np\n",
    "import json\n",
    "from sklearn.preprocessing import OneHotEncoder\n",
    "from jinja2 import Template\n",
    "\n",
    "from IPython.display import display, Markdown"
   ]
  },
  {
   "cell_type": "code",
   "execution_count": 17,
   "metadata": {},
   "outputs": [],
   "source": [
    "# Open dataset\n",
    "\n",
    "data = pd.read_csv('../estaticos_market.csv', index_col=0)"
   ]
  },
  {
   "cell_type": "code",
   "execution_count": 18,
   "metadata": {},
   "outputs": [
    {
     "data": {
      "text/plain": [
       "(460371, 181)"
      ]
     },
     "execution_count": 18,
     "metadata": {},
     "output_type": "execute_result"
    }
   ],
   "source": [
    "# Removing rows where 'de_ramo' == 'OUTROS' to get some full-filled columns for testing\n",
    "\n",
    "data = data.loc[data['de_ramo'] != 'OUTROS']\n",
    "\n",
    "data.shape"
   ]
  },
  {
   "cell_type": "code",
   "execution_count": 19,
   "metadata": {},
   "outputs": [
    {
     "data": {
      "text/plain": [
       "(460371, 28)"
      ]
     },
     "execution_count": 19,
     "metadata": {},
     "output_type": "execute_result"
    }
   ],
   "source": [
    "# Removing columns where exists NaNs\n",
    "\n",
    "removed_columns = []\n",
    "for col in data.iloc[:, 1:]:\n",
    "    if data[col].isna().sum() != 0:\n",
    "        removed_columns.append(col)\n",
    "\n",
    "new_columns = list(set(data.columns) - set(removed_columns))\n",
    "data = data.loc[:, new_columns]\n",
    "\n",
    "data.shape"
   ]
  },
  {
   "cell_type": "code",
   "execution_count": 20,
   "metadata": {},
   "outputs": [
    {
     "data": {
      "text/plain": [
       "Index(['fl_email', 'idade_empresa_anos', 'fl_mei', 'fl_st_especial', 'fl_me',\n",
       "       'vl_total_veiculos_leves_grupo', 'fl_veiculo', 'fl_simples_irregular',\n",
       "       'nm_divisao', 'fl_ltda', 'de_natureza_juridica', 'idade_emp_cat',\n",
       "       'sg_uf', 'natureza_juridica_macro', 'qt_filiais', 'fl_sa', 'fl_spa',\n",
       "       'vl_total_veiculos_pesados_grupo', 'fl_telefone', 'nm_segmento',\n",
       "       'de_ramo', 'fl_matriz', 'fl_passivel_iss', 'id', 'fl_epp', 'fl_antt',\n",
       "       'fl_rm', 'setor'],\n",
       "      dtype='object')"
      ]
     },
     "execution_count": 20,
     "metadata": {},
     "output_type": "execute_result"
    }
   ],
   "source": [
    "data.columns"
   ]
  },
  {
   "cell_type": "code",
   "execution_count": 21,
   "metadata": {},
   "outputs": [
    {
     "name": "stdout",
     "output_type": "stream",
     "text": [
      "fl_email -> boolean value, true if the cnpj has an email registered at the IRF database.\n",
      "idade_empresa_anos -> numeric value, age of the company.\n",
      "fl_mei -> boolean value, true if the company has the term 'MEI' in the end of its legal name.\n",
      "fl_st_especial -> boolean value, true if dt_situacao_especial is not null. If it is not null means that some extraordinary situation is identified by the IRS (ESPOLIO DE EMPRESARIO EMPRESA INDIVIDUAL OU EIRELI, FALIDO, EM LIQUIDACAO, LIQUIDACAO JUDICIAL, LIQUIDACAO EXTRA JUDICIAL, REGISTRO NA JUNTA COMERCIAL EM ANDAMENTO, EM LIQUID EXTRA JUDICIAL, RECUPERACAO JUDICIAL, INTERVENCAO)\n",
      "fl_me -> boolean value, true if the company has the term 'ME' in the end of its legal name.\n",
      "vl_total_veiculos_leves_grupo -> numeric, economic value of the light weight vehicles of the economic group of the company\n",
      "fl_veiculo -> boolean, true if the company owns at least one vehicle\n",
      "fl_simples_irregular -> boolean, true if the company is taxed under the SIMPLES regime and has a impeditive CNAE (economic activities that are not allowed to be taxed according to the simples regime) revenue above the limit of the regime.\n",
      "nm_divisao -> character, name description of the primary economic activity of the company\n",
      "fl_ltda -> boolean value, true if the company has the term 'LTDA' in the end of its legal name.\n",
      "de_natureza_juridica -> character, juridic nature of the company.\n",
      "idade_emp_cat -> character, age of the company by ranges\n",
      "sg_uf -> character, initials of the name of the state of the company.\n",
      "natureza_juridica_macro -> a macro legal category for \"natureza jurídica\".\n",
      "qt_filiais -> self-explanatory.\n",
      "fl_sa -> boolean value, true if the company has the term 'SA' in the end of its legal name.\n",
      "fl_spa -> boolean, true if the company has it's own fuel station\n",
      "vl_total_veiculos_pesados_grupo -> numeric, economic value of the heavy weight vehicles of the economic group of the company\n",
      "fl_telefone -> boolean value, true if the company has a phone number registered in IRS database.\n",
      "nm_segmento -> character, name description of the primary economic activity cluster of the company\n",
      "de_ramo -> description of a macro activity category/branch based on the CNAE code.\n",
      "fl_matriz -> boolean value, `true` if the CNPJ corresponds to the \"matriz\".\n",
      "fl_passivel_iss -> boolean, true if the company performs any activity that is taxable under ISS - Tax under services.\n",
      "fl_epp -> boolean value, true if the company has the term 'EPP' in the end of its legal name.\n",
      "fl_antt -> boolean, true if the company is certified by ANTT for trasnportation purposes\n",
      "fl_rm -> character, true if the company address is located in an metropolitan area.\n",
      "setor -> character, economic sector of the company (Industry, Services, Agrobusiness, Etc.)\n"
     ]
    }
   ],
   "source": [
    "with open('dict.json') as f:\n",
    "    vars_dict = json.load(f)\n",
    "\n",
    "for col in data:\n",
    "    if col == 'id':\n",
    "        continue\n",
    "    print(f'{col} -> {vars_dict[col]}')"
   ]
  },
  {
   "cell_type": "code",
   "execution_count": 22,
   "metadata": {},
   "outputs": [
    {
     "data": {
      "text/plain": [
       "(460371, 27)"
      ]
     },
     "execution_count": 22,
     "metadata": {},
     "output_type": "execute_result"
    }
   ],
   "source": [
    "# Removing features by its description\n",
    "cols_to_remove = [\n",
    "    'fl_telefone', # Se tem número de telefone registrado no db. Acho que da de tirar\n",
    "]\n",
    "\n",
    "data = data.loc[:, set(data.columns) - set(cols_to_remove)]\n",
    "\n",
    "data.shape"
   ]
  },
  {
   "cell_type": "code",
   "execution_count": 23,
   "metadata": {},
   "outputs": [
    {
     "data": {
      "text/plain": [
       "(460371, 26)"
      ]
     },
     "execution_count": 23,
     "metadata": {},
     "output_type": "execute_result"
    }
   ],
   "source": [
    "# Make the index as the 'id' columns\n",
    "\n",
    "data.set_index('id', inplace=True)\n",
    "\n",
    "data.shape"
   ]
  },
  {
   "cell_type": "code",
   "execution_count": 24,
   "metadata": {},
   "outputs": [
    {
     "data": {
      "text/plain": [
       "fl_email                              bool\n",
       "sg_uf                               object\n",
       "natureza_juridica_macro             object\n",
       "qt_filiais                           int64\n",
       "fl_sa                                 bool\n",
       "idade_empresa_anos                 float64\n",
       "fl_spa                              object\n",
       "fl_mei                                bool\n",
       "vl_total_veiculos_pesados_grupo    float64\n",
       "fl_st_especial                        bool\n",
       "nm_segmento                         object\n",
       "de_ramo                             object\n",
       "fl_matriz                             bool\n",
       "fl_me                                 bool\n",
       "fl_passivel_iss                     object\n",
       "vl_total_veiculos_leves_grupo      float64\n",
       "fl_veiculo                          object\n",
       "fl_simples_irregular                object\n",
       "fl_epp                                bool\n",
       "fl_antt                             object\n",
       "fl_rm                               object\n",
       "nm_divisao                          object\n",
       "fl_ltda                               bool\n",
       "de_natureza_juridica                object\n",
       "setor                               object\n",
       "idade_emp_cat                       object\n",
       "dtype: object"
      ]
     },
     "execution_count": 24,
     "metadata": {},
     "output_type": "execute_result"
    }
   ],
   "source": [
    "data.dtypes"
   ]
  },
  {
   "cell_type": "code",
   "execution_count": 25,
   "metadata": {},
   "outputs": [
    {
     "data": {
      "text/plain": [
       "fl_email                              bool\n",
       "sg_uf                               object\n",
       "natureza_juridica_macro             object\n",
       "qt_filiais                           int64\n",
       "fl_sa                                 bool\n",
       "idade_empresa_anos                 float64\n",
       "fl_spa                                bool\n",
       "fl_mei                                bool\n",
       "vl_total_veiculos_pesados_grupo    float64\n",
       "fl_st_especial                        bool\n",
       "nm_segmento                         object\n",
       "de_ramo                             object\n",
       "fl_matriz                             bool\n",
       "fl_me                                 bool\n",
       "fl_passivel_iss                       bool\n",
       "vl_total_veiculos_leves_grupo      float64\n",
       "fl_veiculo                            bool\n",
       "fl_simples_irregular                  bool\n",
       "fl_epp                                bool\n",
       "fl_antt                               bool\n",
       "fl_rm                               object\n",
       "nm_divisao                          object\n",
       "fl_ltda                               bool\n",
       "de_natureza_juridica                object\n",
       "setor                               object\n",
       "idade_emp_cat                       object\n",
       "dtype: object"
      ]
     },
     "execution_count": 25,
     "metadata": {},
     "output_type": "execute_result"
    }
   ],
   "source": [
    "# Fix True/False objects\n",
    "data['fl_passivel_iss'] = data['fl_passivel_iss'].astype('bool')\n",
    "data['fl_antt'] = data['fl_antt'].astype('bool')\n",
    "data['fl_spa'] = data['fl_spa'].astype('bool')\n",
    "data['fl_simples_irregular'] = data['fl_simples_irregular'].astype('bool')\n",
    "data['fl_veiculo'] = data['fl_veiculo'].astype('bool')\n",
    "\n",
    "for col in data:\n",
    "    \n",
    "\n",
    "data.dtypes"
   ]
  },
  {
   "cell_type": "code",
   "execution_count": 26,
   "metadata": {
    "scrolled": true
   },
   "outputs": [
    {
     "data": {
      "text/plain": [
       "Index(['vl_total_veiculos_pesados_grupo', 'fl_st_especial', 'fl_email',\n",
       "       'fl_matriz', 'fl_me', 'fl_passivel_iss',\n",
       "       'vl_total_veiculos_leves_grupo', 'fl_veiculo', 'fl_simples_irregular',\n",
       "       'qt_filiais',\n",
       "       ...\n",
       "       'setor_COMERCIO', 'setor_CONSTRUÇÃO CIVIL', 'setor_INDUSTRIA',\n",
       "       'setor_SERVIÇO', 'idade_emp_cat_1 a 5', 'idade_emp_cat_10 a 15',\n",
       "       'idade_emp_cat_15 a 20', 'idade_emp_cat_5 a 10', 'idade_emp_cat_<= 1',\n",
       "       'idade_emp_cat_> 20'],\n",
       "      dtype='object', length=249)"
      ]
     },
     "execution_count": 26,
     "metadata": {},
     "output_type": "execute_result"
    }
   ],
   "source": [
    "# Generating dummies for the categorical features, one hot encoding\n",
    "\n",
    "new_dfs = []\n",
    "to_remove_cols = []\n",
    "for col in data:\n",
    "    if data[col].dtype == np.object:\n",
    "        to_remove_cols.append(col)\n",
    "        dummies = pd.get_dummies(data[col], prefix=col)\n",
    "        new_dfs.append(dummies)\n",
    "\n",
    "data = data.loc[:, list(set(data.columns) - set(to_remove_cols))]\n",
    "        \n",
    "for d in new_dfs:\n",
    "    data = data.join(d)\n",
    "\n",
    "data.columns"
   ]
  },
  {
   "cell_type": "code",
   "execution_count": 27,
   "metadata": {},
   "outputs": [
    {
     "data": {
      "text/plain": [
       "(460371, 249)"
      ]
     },
     "execution_count": 27,
     "metadata": {},
     "output_type": "execute_result"
    }
   ],
   "source": [
    "data.shape"
   ]
  },
  {
   "cell_type": "code",
   "execution_count": 28,
   "metadata": {},
   "outputs": [],
   "source": [
    "# Load clients of portifólio1\n",
    "\n",
    "portfilio1 = pd.read_csv('../estaticos_portfolio1.csv', index_col=0)"
   ]
  },
  {
   "cell_type": "code",
   "execution_count": 42,
   "metadata": {},
   "outputs": [],
   "source": [
    "clients_p1_data = data.loc[portfilio1['id']]\n",
    "\n",
    "from sklearn.metrics.pairwise import cosine_similarity\n",
    "from sklearn.model_selection import train_test_split\n",
    "\n",
    "train, test = train_test_split(clients_p1_data, test_size=0.2)\n",
    "\n",
    "# Making the user profile\n",
    "u = dict()\n",
    "for col in train:\n",
    "    u[col] = clients_p1_data[col].mean()\n",
    "    \n",
    "user = pd.DataFrame([u])"
   ]
  },
  {
   "cell_type": "code",
   "execution_count": 92,
   "metadata": {},
   "outputs": [
    {
     "data": {
      "text/plain": [
       "<matplotlib.axes._subplots.AxesSubplot at 0x7f8a60d64b00>"
      ]
     },
     "execution_count": 92,
     "metadata": {},
     "output_type": "execute_result"
    },
    {
     "data": {
      "image/png": "[encoded data removed]",
      "text/plain": [
       "<Figure size 432x288 with 1 Axes>"
      ]
     },
     "metadata": {
      "needs_background": "light"
     },
     "output_type": "display_data"
    }
   ],
   "source": [
    "similarities = pd.DataFrame(data=cosine_similarity(train, user), columns=['Similarity'])\n",
    "\n",
    "similarities.set_index(train.index, inplace=True)\n",
    "\n",
    "sns.distplot(similarities)"
   ]
  }
 ],
 "metadata": {
  "kernelspec": {
   "display_name": "Python 3",
   "language": "python",
   "name": "python3"
  },
  "language_info": {
   "codemirror_mode": {
    "name": "ipython",
    "version": 3
   },
   "file_extension": ".py",
   "mimetype": "text/x-python",
   "name": "python",
   "nbconvert_exporter": "python",
   "pygments_lexer": "ipython3",
   "version": "3.7.3"
  }
 },
 "nbformat": 4,
 "nbformat_minor": 2
}
